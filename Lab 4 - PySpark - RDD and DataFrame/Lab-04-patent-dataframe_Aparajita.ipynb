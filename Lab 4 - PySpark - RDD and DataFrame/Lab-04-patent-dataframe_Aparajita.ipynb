{
 "cells": [
  {
   "cell_type": "markdown",
   "metadata": {},
   "source": [
    "# CSCI 4253 / 5253 - Lab #4 - Patent Problem with Spark DataFrames\n",
    "<div>\n",
    " <h2> CSCI 4283 / 5253 \n",
    "  <IMG SRC=\"https://www.colorado.edu/cs/profiles/express/themes/cuspirit/logo.png\" WIDTH=50 ALIGN=\"right\"/> </h2>\n",
    "</div>\n",
    "\n",
    "\n"
   ]
  },
  {
   "cell_type": "markdown",
   "metadata": {},
   "source": [
    "## Aparajita Singh (apsi2875)\n",
    "#### Resources: Class notes/lectures and the links provided.\n",
    "#### Collaborators: Amit Baran Roy"
   ]
  },
  {
   "cell_type": "markdown",
   "metadata": {},
   "source": [
    "This [Spark cheatsheet](https://s3.amazonaws.com/assets.datacamp.com/blog_assets/PySpark_SQL_Cheat_Sheet_Python.pdf) is useful as is [this reference on doing joins in Spark dataframe](http://www.learnbymarketing.com/1100/pyspark-joins-by-example/).\n",
    "\n",
    "The [DataBricks company has one of the better reference manuals for PySpark](https://docs.databricks.com/spark/latest/dataframes-datasets/index.html) -- they show you how to perform numerous common data operations such as joins, aggregation operations following `groupBy` and the like."
   ]
  },
  {
   "cell_type": "code",
   "execution_count": 2,
   "metadata": {},
   "outputs": [],
   "source": [
    "from pyspark import SparkContext, SparkConf\n",
    "from pyspark.sql import SparkSession"
   ]
  },
  {
   "cell_type": "markdown",
   "metadata": {},
   "source": [
    "The following aggregation functions may be useful -- [these can be used to aggregate results of `groupby` operations](https://docs.databricks.com/spark/latest/dataframes-datasets/introduction-to-dataframes-python.html#example-aggregations-using-agg-and-countdistinct). More documentation is at the [PySpark SQL Functions manual](https://spark.apache.org/docs/2.3.0/api/python/pyspark.sql.html#module-pyspark.sql.functions). Feel free to use other functions from that library."
   ]
  },
  {
   "cell_type": "code",
   "execution_count": 3,
   "metadata": {},
   "outputs": [],
   "source": [
    "from pyspark.sql.functions import col, count, countDistinct"
   ]
  },
  {
   "cell_type": "markdown",
   "metadata": {},
   "source": [
    "Create our session as described in the tutorials"
   ]
  },
  {
   "cell_type": "code",
   "execution_count": 4,
   "metadata": {},
   "outputs": [],
   "source": [
    "spark = SparkSession \\\n",
    "    .builder \\\n",
    "    .appName(\"Lab4-Dataframe\") \\\n",
    "    .master(\"local[*]\")\\\n",
    "    .getOrCreate()"
   ]
  },
  {
   "cell_type": "markdown",
   "metadata": {},
   "source": [
    "Read in the citations and patents data and check that the data makes sense. Note that unlike in the RDD solution, the data is automatically inferred to be Integer() types."
   ]
  },
  {
   "cell_type": "code",
   "execution_count": 5,
   "metadata": {},
   "outputs": [],
   "source": [
    "citations = spark.read.load('cite75_99.txt.gz',\n",
    "            format=\"csv\", sep=\",\", header=True,\n",
    "            compression=\"gzip\",\n",
    "            inferSchema=\"true\")"
   ]
  },
  {
   "cell_type": "code",
   "execution_count": 6,
   "metadata": {},
   "outputs": [
    {
     "name": "stdout",
     "output_type": "stream",
     "text": [
      "+-------+-------+\n",
      "| CITING|  CITED|\n",
      "+-------+-------+\n",
      "|3858241| 956203|\n",
      "|3858241|1324234|\n",
      "|3858241|3398406|\n",
      "|3858241|3557384|\n",
      "|3858241|3634889|\n",
      "+-------+-------+\n",
      "only showing top 5 rows\n",
      "\n"
     ]
    }
   ],
   "source": [
    "citations.show(5)"
   ]
  },
  {
   "cell_type": "code",
   "execution_count": 7,
   "metadata": {},
   "outputs": [],
   "source": [
    "patents = spark.read.load('apat63_99.txt.gz',\n",
    "            format=\"csv\", sep=\",\", header=True,\n",
    "            compression=\"gzip\",\n",
    "            inferSchema=\"true\")"
   ]
  },
  {
   "cell_type": "code",
   "execution_count": 8,
   "metadata": {},
   "outputs": [
    {
     "name": "stdout",
     "output_type": "stream",
     "text": [
      "+-------+-----+-----+-------+-------+-------+--------+-------+------+------+---+------+-----+--------+--------+-------+--------+--------+--------+--------+--------+--------+--------+\n",
      "| PATENT|GYEAR|GDATE|APPYEAR|COUNTRY|POSTATE|ASSIGNEE|ASSCODE|CLAIMS|NCLASS|CAT|SUBCAT|CMADE|CRECEIVE|RATIOCIT|GENERAL|ORIGINAL|FWDAPLAG|BCKGTLAG|SELFCTUB|SELFCTLB|SECDUPBD|SECDLWBD|\n",
      "+-------+-----+-----+-------+-------+-------+--------+-------+------+------+---+------+-----+--------+--------+-------+--------+--------+--------+--------+--------+--------+--------+\n",
      "|3070801| 1963| 1096|   null|     BE|   null|    null|      1|  null|   269|  6|    69| null|       1|    null|    0.0|    null|    null|    null|    null|    null|    null|    null|\n",
      "|3070802| 1963| 1096|   null|     US|     TX|    null|      1|  null|     2|  6|    63| null|       0|    null|   null|    null|    null|    null|    null|    null|    null|    null|\n",
      "|3070803| 1963| 1096|   null|     US|     IL|    null|      1|  null|     2|  6|    63| null|       9|    null| 0.3704|    null|    null|    null|    null|    null|    null|    null|\n",
      "|3070804| 1963| 1096|   null|     US|     OH|    null|      1|  null|     2|  6|    63| null|       3|    null| 0.6667|    null|    null|    null|    null|    null|    null|    null|\n",
      "|3070805| 1963| 1096|   null|     US|     CA|    null|      1|  null|     2|  6|    63| null|       1|    null|    0.0|    null|    null|    null|    null|    null|    null|    null|\n",
      "+-------+-----+-----+-------+-------+-------+--------+-------+------+------+---+------+-----+--------+--------+-------+--------+--------+--------+--------+--------+--------+--------+\n",
      "only showing top 5 rows\n",
      "\n"
     ]
    }
   ],
   "source": [
    "patents.show(5)"
   ]
  },
  {
   "cell_type": "markdown",
   "metadata": {},
   "source": [
    "#### Create another table patents_info with only the patent number and the patent state."
   ]
  },
  {
   "cell_type": "code",
   "execution_count": 9,
   "metadata": {},
   "outputs": [
    {
     "name": "stdout",
     "output_type": "stream",
     "text": [
      "+-------+-------+\n",
      "| PATENT|POSTATE|\n",
      "+-------+-------+\n",
      "|3070801|   null|\n",
      "|3070802|     TX|\n",
      "|3070803|     IL|\n",
      "|3070804|     OH|\n",
      "|3070805|     CA|\n",
      "|3070806|     PA|\n",
      "|3070807|     OH|\n",
      "|3070808|     IA|\n",
      "|3070809|     AZ|\n",
      "|3070810|     IL|\n",
      "|3070811|     CA|\n",
      "|3070812|     LA|\n",
      "|3070813|     NY|\n",
      "|3070814|     MN|\n",
      "|3070815|     CO|\n",
      "|3070816|     OK|\n",
      "|3070817|     RI|\n",
      "|3070818|     IN|\n",
      "|3070819|     TN|\n",
      "|3070820|   null|\n",
      "+-------+-------+\n",
      "only showing top 20 rows\n",
      "\n"
     ]
    }
   ],
   "source": [
    "patents_info = patents.select(\"PATENT\", \"POSTATE\")\n",
    "patents_info.show(20)"
   ]
  },
  {
   "cell_type": "markdown",
   "metadata": {},
   "source": [
    "#### Create aliases for the citations table and the patents_info table."
   ]
  },
  {
   "cell_type": "code",
   "execution_count": 10,
   "metadata": {},
   "outputs": [],
   "source": [
    "cita = citations.alias('cita')\n",
    "pi = patents_info.alias('pi')"
   ]
  },
  {
   "cell_type": "markdown",
   "metadata": {},
   "source": [
    "### Join the citations table and the patents_info table, with the help of their aliases created in previous step. For joining, use \"CITING\" column from citations and \"PATENT\" column from patents_info for comparison."
   ]
  },
  {
   "cell_type": "code",
   "execution_count": 11,
   "metadata": {},
   "outputs": [
    {
     "name": "stdout",
     "output_type": "stream",
     "text": [
      "+-------+-------+-------+-------+\n",
      "| CITING|  CITED| PATENT|POSTATE|\n",
      "+-------+-------+-------+-------+\n",
      "|3858258|1331793|3858258|     CA|\n",
      "|3858258|1540798|3858258|     CA|\n",
      "|3858527| 924225|3858527|   null|\n",
      "|3858527|2444326|3858527|   null|\n",
      "|3858527|2705120|3858527|   null|\n",
      "|3858527|2967080|3858527|   null|\n",
      "|3858527|3602157|3858527|   null|\n",
      "|3858527|3638586|3858527|   null|\n",
      "|3858527|3699902|3858527|   null|\n",
      "|3858560| 957631|3858560|     IN|\n",
      "|3858597|3675252|3858597|     MT|\n",
      "|3858597|3815160|3858597|     MT|\n",
      "|3858770|2290722|3858770|     CA|\n",
      "|3858770|2777621|3858770|     CA|\n",
      "|3858770|2782969|3858770|     CA|\n",
      "|3858770|3040941|3858770|     CA|\n",
      "|3859029| 982044|3859029|     NY|\n",
      "|3859029|1020004|3859029|     NY|\n",
      "|3859029|1830227|3859029|     NY|\n",
      "|3859029|2752631|3859029|     NY|\n",
      "+-------+-------+-------+-------+\n",
      "only showing top 20 rows\n",
      "\n"
     ]
    }
   ],
   "source": [
    "joined_table = cita.join(pi, cita.CITING == pi.PATENT)\n",
    "joined_table.show()"
   ]
  },
  {
   "cell_type": "markdown",
   "metadata": {},
   "source": [
    "#### Create a new table by selecting CITED, CITING and POSTATE from joined_table. Rename \"POSTATE\" column to \"CITING_STATE\". Renaming is essential for the next steps."
   ]
  },
  {
   "cell_type": "code",
   "execution_count": 12,
   "metadata": {},
   "outputs": [
    {
     "name": "stdout",
     "output_type": "stream",
     "text": [
      "+-------+-------+------------+\n",
      "|  CITED| CITING|CITING_STATE|\n",
      "+-------+-------+------------+\n",
      "|1331793|3858258|          CA|\n",
      "|1540798|3858258|          CA|\n",
      "| 924225|3858527|        null|\n",
      "|2444326|3858527|        null|\n",
      "|2705120|3858527|        null|\n",
      "|2967080|3858527|        null|\n",
      "|3602157|3858527|        null|\n",
      "|3638586|3858527|        null|\n",
      "|3699902|3858527|        null|\n",
      "| 957631|3858560|          IN|\n",
      "+-------+-------+------------+\n",
      "only showing top 10 rows\n",
      "\n"
     ]
    }
   ],
   "source": [
    "table1 = joined_table.select(\"CITED\", \"CITING\", \"POSTATE\")\n",
    "table1 = table1.withColumnRenamed(\"POSTATE\", \"CITING_STATE\")\n",
    "table1.show(10)"
   ]
  },
  {
   "cell_type": "markdown",
   "metadata": {},
   "source": [
    "#### Create an alias for table1. Perform join on table1 and patents_info. Display the table obtained."
   ]
  },
  {
   "cell_type": "code",
   "execution_count": 13,
   "metadata": {},
   "outputs": [
    {
     "name": "stdout",
     "output_type": "stream",
     "text": [
      "+-------+-------+------------+-------+-------+\n",
      "|  CITED| CITING|CITING_STATE| PATENT|POSTATE|\n",
      "+-------+-------+------------+-------+-------+\n",
      "|3071083|3951073|          WA|3071083|   null|\n",
      "|3071083|4401034|        null|3071083|   null|\n",
      "|3071083|4802416|        null|3071083|   null|\n",
      "|3071452|4192656|          PA|3071452|   null|\n",
      "|3071452|4045189|        null|3071452|   null|\n",
      "|3071753|4496943|          NJ|3071753|     MN|\n",
      "|3071753|4345315|          TN|3071753|     MN|\n",
      "|3071753|4120573|          IL|3071753|     MN|\n",
      "|3071753|3949375|          NJ|3071753|     MN|\n",
      "|3071753|4271479|          NY|3071753|     MN|\n",
      "|3071941|5062619|        null|3071941|   null|\n",
      "|3072100|4280448|          KS|3072100|     IL|\n",
      "|3072100|3861359|          IL|3072100|     IL|\n",
      "|3072100|4138968|          KS|3072100|     IL|\n",
      "|3072100|3894516|          OK|3072100|     IL|\n",
      "|3072100|4572109|          SC|3072100|     IL|\n",
      "|3072274|4396343|          OH|3072274|     WI|\n",
      "|3072274|4955781|          OR|3072274|     WI|\n",
      "|3072274|4907934|          OR|3072274|     WI|\n",
      "|3072274|3917094|          WI|3072274|     WI|\n",
      "+-------+-------+------------+-------+-------+\n",
      "only showing top 20 rows\n",
      "\n"
     ]
    }
   ],
   "source": [
    "t1 = table1.alias('t1')\n",
    "\n",
    "joined_table1 = t1.join(pi, t1.CITED == pi.PATENT)\n",
    "joined_table1.show()"
   ]
  },
  {
   "cell_type": "markdown",
   "metadata": {},
   "source": [
    "#### Create another table by selecting CITED, POSTATE, CITING and CITING_STATE. Rename the \"POSTATE\" column to \"CITED_STATE\". The required intermediate table is obtained now."
   ]
  },
  {
   "cell_type": "code",
   "execution_count": 14,
   "metadata": {},
   "outputs": [
    {
     "name": "stdout",
     "output_type": "stream",
     "text": [
      "+-------+-----------+-------+------------+\n",
      "|  CITED|CITED_STATE| CITING|CITING_STATE|\n",
      "+-------+-----------+-------+------------+\n",
      "|3071083|       null|3951073|          WA|\n",
      "|3071083|       null|4401034|        null|\n",
      "|3071083|       null|4802416|        null|\n",
      "|3071452|       null|4192656|          PA|\n",
      "|3071452|       null|4045189|        null|\n",
      "|3071753|         MN|4496943|          NJ|\n",
      "|3071753|         MN|4345315|          TN|\n",
      "|3071753|         MN|4120573|          IL|\n",
      "|3071753|         MN|3949375|          NJ|\n",
      "|3071753|         MN|4271479|          NY|\n",
      "+-------+-----------+-------+------------+\n",
      "only showing top 10 rows\n",
      "\n"
     ]
    }
   ],
   "source": [
    "table2 = joined_table1.select(\"CITED\", \"POSTATE\", \"CITING\", \"CITING_STATE\")\n",
    "table2 = table2.withColumnRenamed(\"POSTATE\", \"CITED_STATE\")\n",
    "table2.show(10)"
   ]
  },
  {
   "cell_type": "markdown",
   "metadata": {},
   "source": [
    "#### Rearrange the table and display it."
   ]
  },
  {
   "cell_type": "code",
   "execution_count": 15,
   "metadata": {},
   "outputs": [
    {
     "name": "stdout",
     "output_type": "stream",
     "text": [
      "+-------+------------+-------+-----------+\n",
      "| CITING|CITING_STATE|  CITED|CITED_STATE|\n",
      "+-------+------------+-------+-----------+\n",
      "|3951073|          WA|3071083|       null|\n",
      "|4401034|        null|3071083|       null|\n",
      "|4802416|        null|3071083|       null|\n",
      "|4192656|          PA|3071452|       null|\n",
      "|4045189|        null|3071452|       null|\n",
      "|4496943|          NJ|3071753|         MN|\n",
      "|4345315|          TN|3071753|         MN|\n",
      "|4120573|          IL|3071753|         MN|\n",
      "|3949375|          NJ|3071753|         MN|\n",
      "|4271479|          NY|3071753|         MN|\n",
      "+-------+------------+-------+-----------+\n",
      "only showing top 10 rows\n",
      "\n"
     ]
    }
   ],
   "source": [
    "table3 = table2.select(\"CITING\", \"CITING_STATE\", \"CITED\", \"CITED_STATE\")\n",
    "table3.show(10)"
   ]
  },
  {
   "cell_type": "markdown",
   "metadata": {},
   "source": [
    "#### Create an alias for table3."
   ]
  },
  {
   "cell_type": "code",
   "execution_count": 16,
   "metadata": {},
   "outputs": [
    {
     "name": "stdout",
     "output_type": "stream",
     "text": [
      "+-------+------------+-------+-----------+\n",
      "| CITING|CITING_STATE|  CITED|CITED_STATE|\n",
      "+-------+------------+-------+-----------+\n",
      "|3951073|          WA|3071083|       null|\n",
      "|4401034|        null|3071083|       null|\n",
      "|4802416|        null|3071083|       null|\n",
      "|4192656|          PA|3071452|       null|\n",
      "|4045189|        null|3071452|       null|\n",
      "|4496943|          NJ|3071753|         MN|\n",
      "|4345315|          TN|3071753|         MN|\n",
      "|4120573|          IL|3071753|         MN|\n",
      "|3949375|          NJ|3071753|         MN|\n",
      "|4271479|          NY|3071753|         MN|\n",
      "+-------+------------+-------+-----------+\n",
      "only showing top 10 rows\n",
      "\n"
     ]
    }
   ],
   "source": [
    "table3.show(10)\n",
    "t3 = table3.alias('t3')"
   ]
  },
  {
   "cell_type": "markdown",
   "metadata": {},
   "source": [
    "#### From the intermediate table, extract those rows where CITING_STATE and CITED_STATE are equal (required problem). Also, filter out the rows where CITING_STATE or CITED_STATE are equal to null."
   ]
  },
  {
   "cell_type": "code",
   "execution_count": 17,
   "metadata": {},
   "outputs": [
    {
     "name": "stdout",
     "output_type": "stream",
     "text": [
      "+-------+------------+-------+-----------+\n",
      "| CITING|CITING_STATE|  CITED|CITED_STATE|\n",
      "+-------+------------+-------+-----------+\n",
      "|4383847|          AL|3177062|         AL|\n",
      "|3878730|          AL|3610053|         AL|\n",
      "|3877317|          AL|3610053|         AL|\n",
      "|4601891|          AL|3733191|         AL|\n",
      "|4237106|          AL|3733191|         AL|\n",
      "|4028087|          AL|3733191|         AL|\n",
      "|4427432|          AL|3969483|         AL|\n",
      "|4246248|          AL|3969483|         AL|\n",
      "|4090893|          AL|3974004|         AL|\n",
      "|4429634|          AL|3974004|         AL|\n",
      "|4471988|          AL|4415080|         AL|\n",
      "|4725766|          AL|4546264|         AL|\n",
      "|4730154|          AL|4546264|         AL|\n",
      "|4735382|          AL|4546264|         AL|\n",
      "|5049030|          AL|4547115|         AL|\n",
      "|4880701|          AL|4698246|         AL|\n",
      "|4806399|          AL|4698246|         AL|\n",
      "|5213858|          AL|4698246|         AL|\n",
      "|4888222|          AL|4698246|         AL|\n",
      "|4983431|          AL|4698246|         AL|\n",
      "+-------+------------+-------+-----------+\n",
      "only showing top 20 rows\n",
      "\n"
     ]
    }
   ],
   "source": [
    "table4 = t3.filter(t3[\"CITING_STATE\"]==t3[\"CITED_STATE\"]).filter(t3[\"CITING_STATE\"]!=\"null\").filter(t3[\"CITED_STATE\"]!=\"null\")\n",
    "table4.show(20)"
   ]
  },
  {
   "cell_type": "markdown",
   "metadata": {},
   "source": [
    "#### Create an alias for table4. Use groupBy by CITING to obtain the number of same state citations. Use count() to count the rows in each group obtained. Rename the column count to SAME_STATE."
   ]
  },
  {
   "cell_type": "markdown",
   "metadata": {},
   "source": [
    "t4 = table4.alias('t4')\n",
    "table5 = t4.groupBy(\"CITING\").count()\n",
    "table5 = table5.withColumnRenamed(\"count\", \"SAME_STATE\")\n",
    "table5.show(20)"
   ]
  },
  {
   "cell_type": "markdown",
   "metadata": {},
   "source": [
    "#### Create aliases for table5 and patents table."
   ]
  },
  {
   "cell_type": "code",
   "execution_count": 19,
   "metadata": {},
   "outputs": [],
   "source": [
    "pa = patents.alias('pa')\n",
    "t5 = table5.alias('t5')"
   ]
  },
  {
   "cell_type": "markdown",
   "metadata": {},
   "source": [
    "#### As a final step, join table5 with the original table patents (with all the information) to output the desired result. Display the table in descending order by doing ascending=False. "
   ]
  },
  {
   "cell_type": "code",
   "execution_count": 20,
   "metadata": {},
   "outputs": [
    {
     "name": "stdout",
     "output_type": "stream",
     "text": [
      "+-------+-----+-----+-------+-------+-------+--------+-------+------+------+---+------+-----+--------+--------+-------+--------+--------+--------+--------+--------+--------+--------+-------+----------+\n",
      "| PATENT|GYEAR|GDATE|APPYEAR|COUNTRY|POSTATE|ASSIGNEE|ASSCODE|CLAIMS|NCLASS|CAT|SUBCAT|CMADE|CRECEIVE|RATIOCIT|GENERAL|ORIGINAL|FWDAPLAG|BCKGTLAG|SELFCTUB|SELFCTLB|SECDUPBD|SECDLWBD| CITING|SAME_STATE|\n",
      "+-------+-----+-----+-------+-------+-------+--------+-------+------+------+---+------+-----+--------+--------+-------+--------+--------+--------+--------+--------+--------+--------+-------+----------+\n",
      "|5959466| 1999|14515|   1997|     US|     CA|    5310|      2|  null|   326|  4|    46|  159|       0|     1.0|   null|  0.6186|    null|  4.8868|  0.0455|   0.044|    null|    null|5959466|       125|\n",
      "|5983822| 1999|14564|   1998|     US|     TX|  569900|      2|  null|   114|  5|    55|  200|       0|   0.995|   null|  0.7201|    null|   12.45|     0.0|     0.0|    null|    null|5983822|       103|\n",
      "|6008204| 1999|14606|   1998|     US|     CA|  749584|      2|  null|   514|  3|    31|  121|       0|     1.0|   null|  0.7415|    null|     5.0|  0.0085|  0.0083|    null|    null|6008204|       100|\n",
      "|5952345| 1999|14501|   1997|     US|     CA|  749584|      2|  null|   514|  3|    31|  118|       0|     1.0|   null|  0.7442|    null|  5.1102|     0.0|     0.0|    null|    null|5952345|        98|\n",
      "|5958954| 1999|14515|   1997|     US|     CA|  749584|      2|  null|   514|  3|    31|  116|       0|     1.0|   null|  0.7397|    null|   5.181|     0.0|     0.0|    null|    null|5958954|        96|\n",
      "|5998655| 1999|14585|   1998|     US|     CA|    null|      1|  null|   560|  1|    14|  114|       0|     1.0|   null|  0.7387|    null|  5.1667|    null|    null|    null|    null|5998655|        96|\n",
      "|5936426| 1999|14466|   1997|     US|     CA|    5310|      2|  null|   326|  4|    46|  178|       0|     1.0|   null|    0.58|    null| 11.2303|  0.0765|   0.073|    null|    null|5936426|        94|\n",
      "|5913855| 1999|14417|   1997|     US|     CA|  733846|      2|  null|   606|  3|    32|  242|       0|     1.0|   null|  0.7403|    null|  8.3595|     0.0|     0.0|    null|    null|5913855|        90|\n",
      "|5739256| 1998|13983|   1995|     US|     CA|   70060|      2|    15|   528|  1|    15|  453|       0|     1.0|   null|  0.8232|    null| 15.1104|  0.1124|  0.1082|    null|    null|5739256|        90|\n",
      "|5951547| 1999|14501|   1997|     US|     CA|  733846|      2|  null|   606|  3|    32|  242|       0|     1.0|   null|  0.7382|    null|  8.3471|     0.0|     0.0|    null|    null|5951547|        90|\n",
      "|5978329| 1999|14550|   1995|     US|     CA|  148925|      2|  null|   369|  2|    24|  145|       0|     1.0|   null|  0.5449|    null| 12.9241|  0.4196|  0.4138|    null|    null|5978329|        90|\n",
      "|5980517| 1999|14557|   1998|     US|     CA|  733846|      2|  null|   606|  3|    32|  241|       0|     1.0|   null|  0.7394|    null|  8.3776|     0.0|     0.0|    null|    null|5980517|        90|\n",
      "|5925042| 1999|14445|   1997|     US|     CA|  733846|      2|  null|   606|  3|    32|  242|       0|     1.0|   null|  0.7382|    null|  8.3471|     0.0|     0.0|    null|    null|5925042|        90|\n",
      "|5917082| 1999|14424|   1997|     US|     CA|  749584|      2|  null|   560|  1|    14|  107|       0|     1.0|   null|  0.7206|    null|  5.4393|     0.0|     0.0|    null|    null|5917082|        89|\n",
      "|5978331| 1999|14550|   1997|     US|     CA|  148925|      2|  null|   369|  2|    24|  148|       0|     1.0|   null|  0.5278|    null| 12.9459|  0.4014|  0.3986|    null|    null|5978331|        89|\n",
      "|5689485| 1997|13836|   1996|     US|     CA|  148925|      2|    30|   369|  2|    24|  138|       0|     1.0|   null|  0.5556|    null| 11.2174|  0.4307|  0.4275|    null|    null|5689485|        89|\n",
      "|5928229| 1999|14452|   1997|     US|     CA|  733846|      2|  null|   606|  3|    32|  240|       0|     1.0|   null|  0.7407|    null|  8.4083|     0.0|     0.0|    null|    null|5928229|        89|\n",
      "|5618907| 1997|13612|   1995|     US|     CA|   70060|      2|     6|   528|  1|    15|  453|       0|     1.0|   null|  0.8248|    null| 14.1369|  0.1103|   0.106|    null|    null|5618907|        89|\n",
      "|5602226| 1997|13556|   1995|     US|     CA|   70060|      2|    21|   528|  1|    15|  450|       0|     1.0|   null|  0.8273|    null| 14.1244|  0.1088|  0.1044|    null|    null|5602226|        88|\n",
      "|5847160| 1998|14221|   1997|     US|     CA|   19170|      2|    12|   549|  1|    14|  106|       0|     1.0|   null|  0.7246|    null|  4.4811|   0.835|  0.8113|    null|    null|5847160|        87|\n",
      "+-------+-----+-----+-------+-------+-------+--------+-------+------+------+---+------+-----+--------+--------+-------+--------+--------+--------+--------+--------+--------+--------+-------+----------+\n",
      "only showing top 20 rows\n",
      "\n"
     ]
    }
   ],
   "source": [
    "pa.join(t5, t5.CITING==pa.PATENT).sort('SAME_STATE', ascending=False).show(20)"
   ]
  },
  {
   "cell_type": "code",
   "execution_count": null,
   "metadata": {},
   "outputs": [],
   "source": []
  }
 ],
 "metadata": {
  "kernelspec": {
   "display_name": "Python 3",
   "language": "python",
   "name": "python3"
  },
  "language_info": {
   "codemirror_mode": {
    "name": "ipython",
    "version": 3
   },
   "file_extension": ".py",
   "mimetype": "text/x-python",
   "name": "python",
   "nbconvert_exporter": "python",
   "pygments_lexer": "ipython3",
   "version": "3.8.5"
  }
 },
 "nbformat": 4,
 "nbformat_minor": 4
}
