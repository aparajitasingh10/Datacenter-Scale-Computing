{
 "cells": [
  {
   "cell_type": "markdown",
   "metadata": {
    "id": "DI0cQzC187EG"
   },
   "source": [
    "# CSCI 4253 / 5253 - Lab #4 - Patent Problem with Spark RDD - SOLUTION\n",
    "<div>\n",
    " <h2> CSCI 4283 / 5253 \n",
    "  <IMG SRC=\"https://www.colorado.edu/cs/profiles/express/themes/cuspirit/logo.png\" WIDTH=50 ALIGN=\"right\"/> </h2>\n",
    "</div>"
   ]
  },
  {
   "cell_type": "markdown",
   "metadata": {
    "id": "21339jTN87EH"
   },
   "source": [
    "## Aparajita Singh (apsi2875)\n",
    "#### Resources: Lecture videos and links provided\n",
    "#### Collaborators: Amit Baran Roy"
   ]
  },
  {
   "cell_type": "markdown",
   "metadata": {
    "id": "CqV-MLIm87EH"
   },
   "source": [
    "This [Spark cheatsheet](https://s3.amazonaws.com/assets.datacamp.com/blog_assets/PySpark_SQL_Cheat_Sheet_Python.pdf) is useful"
   ]
  },
  {
   "cell_type": "code",
   "execution_count": 1,
   "metadata": {
    "colab": {
     "base_uri": "https://localhost:8080/",
     "height": 350
    },
    "id": "Agxsmu_787EI",
    "outputId": "8d068b25-5007-4be5-825f-37d71afb8860"
   },
   "outputs": [],
   "source": [
    "from pyspark import SparkContext, SparkConf\n",
    "import numpy as np\n",
    "import operator\n",
    "from itertools import islice"
   ]
  },
  {
   "cell_type": "code",
   "execution_count": 2,
   "metadata": {
    "id": "6rjuJjPD87EM"
   },
   "outputs": [],
   "source": [
    "conf=SparkConf().setAppName(\"Lab4-rdd\").setMaster(\"local[*]\")\n",
    "sc = SparkContext(conf=conf)"
   ]
  },
  {
   "cell_type": "code",
   "execution_count": 3,
   "metadata": {
    "colab": {
     "base_uri": "https://localhost:8080/",
     "height": 238
    },
    "id": "G2xKU7VW8_yP",
    "outputId": "b644bb2f-7096-4ef2-9441-0a5ff092c012"
   },
   "outputs": [
    {
     "name": "stdout",
     "output_type": "stream",
     "text": [
      "Collecting pyspark\n",
      "  Downloading pyspark-3.0.1.tar.gz (204.2 MB)\n",
      "\u001b[K     |████████████████████████████████| 204.2 MB 24 kB/s s eta 0:00:01     |████████████████▏               | 103.2 MB 53.0 MB/s eta 0:00:02��█▍            | 123.7 MB 53.0 MB/s eta 0:00:02\n",
      "\u001b[?25hCollecting py4j==0.10.9\n",
      "  Downloading py4j-0.10.9-py2.py3-none-any.whl (198 kB)\n",
      "\u001b[K     |████████████████████████████████| 198 kB 41.4 MB/s eta 0:00:01\n",
      "\u001b[?25hBuilding wheels for collected packages: pyspark\n",
      "  Building wheel for pyspark (setup.py) ... \u001b[?25ldone\n",
      "\u001b[?25h  Created wheel for pyspark: filename=pyspark-3.0.1-py2.py3-none-any.whl size=204612244 sha256=fff45e2d4c705346fb90a04231a1b56b5b79d821dad08113ad967f5522612ee1\n",
      "  Stored in directory: /home/jovyan/.cache/pip/wheels/ea/21/84/970b03913d0d6a96ef51c34c878add0de9e4ecbb7c764ea21f\n",
      "Successfully built pyspark\n",
      "Installing collected packages: py4j, pyspark\n",
      "Successfully installed py4j-0.10.9 pyspark-3.0.1\n",
      "Note: you may need to restart the kernel to use updated packages.\n"
     ]
    }
   ],
   "source": [
    "pip install pyspark"
   ]
  },
  {
   "cell_type": "markdown",
   "metadata": {
    "id": "s6uqOb-N87EP"
   },
   "source": [
    "Using PySpark and RDD's on the https://coding.csel.io machines is slow -- most of the code is executed in Python and this is much less efficient than the java-based code using the PySpark dataframes. Be patient and trying using `.cache()` to cache the output of joins. You may want to start with a reduced set of data before running the full task. You can use the `sample()` method to extract just a sample of the data or use "
   ]
  },
  {
   "cell_type": "markdown",
   "metadata": {
    "id": "E7yHvnot87EP"
   },
   "source": [
    "These two RDD's are called \"rawCitations\" and \"rawPatents\" because you probably want to process them futher (e.g. convert them to integer types, etc). \n",
    "\n",
    "The `textFile` function returns data in strings. This should work fine for this lab.\n",
    "\n",
    "Other methods you use might return data in type `Byte`. If you haven't used Python `Byte` types before, google it. You can convert a value of `x` type byte into e.g. a UTF8 string using `x.decode('uft-8')`. Alternatively, you can use the `open` method of the gzip library to read in all the lines as UTF-8 strings like this:\n",
    "```\n",
    "import gzip\n",
    "with gzip.open('cite75_99.txt.gz', 'rt',encoding='utf-8') as f:\n",
    "    rddCitations = sc.parallelize( f.readlines() )\n",
    "```\n",
    "This is less efficient than using `textFile` because `textFile` would use the underlying HDFS or other file system to read the file across all the worker nodes while the using `gzip.open()...readlines()` will read all the data in the frontend and then distribute it to all the worker nodes."
   ]
  },
  {
   "cell_type": "code",
   "execution_count": 4,
   "metadata": {
    "id": "cls4Mcu687EQ"
   },
   "outputs": [],
   "source": [
    "rddCitations = sc.textFile(\"cite75_99.txt.gz\")\n",
    "rddPatents = sc.textFile(\"apat63_99.txt.gz\")"
   ]
  },
  {
   "cell_type": "markdown",
   "metadata": {
    "id": "SaA5c6gc87ET"
   },
   "source": [
    "The data looks like the following."
   ]
  },
  {
   "cell_type": "code",
   "execution_count": 5,
   "metadata": {
    "id": "80OzOGDZ87EU",
    "outputId": "f336ee27-5e1e-40cb-9583-cec9ef5a88b2"
   },
   "outputs": [
    {
     "data": {
      "text/plain": [
       "['\"CITING\",\"CITED\"',\n",
       " '3858241,956203',\n",
       " '3858241,1324234',\n",
       " '3858241,3398406',\n",
       " '3858241,3557384']"
      ]
     },
     "execution_count": 5,
     "metadata": {},
     "output_type": "execute_result"
    }
   ],
   "source": [
    "rddCitations.take(5)"
   ]
  },
  {
   "cell_type": "code",
   "execution_count": 6,
   "metadata": {
    "id": "aZitW0nN87EX",
    "outputId": "0917b96a-d0c2-4b46-9e5f-db2c3de0fe0e"
   },
   "outputs": [
    {
     "data": {
      "text/plain": [
       "['\"PATENT\",\"GYEAR\",\"GDATE\",\"APPYEAR\",\"COUNTRY\",\"POSTATE\",\"ASSIGNEE\",\"ASSCODE\",\"CLAIMS\",\"NCLASS\",\"CAT\",\"SUBCAT\",\"CMADE\",\"CRECEIVE\",\"RATIOCIT\",\"GENERAL\",\"ORIGINAL\",\"FWDAPLAG\",\"BCKGTLAG\",\"SELFCTUB\",\"SELFCTLB\",\"SECDUPBD\",\"SECDLWBD\"',\n",
       " '3070801,1963,1096,,\"BE\",\"\",,1,,269,6,69,,1,,0,,,,,,,',\n",
       " '3070802,1963,1096,,\"US\",\"TX\",,1,,2,6,63,,0,,,,,,,,,',\n",
       " '3070803,1963,1096,,\"US\",\"IL\",,1,,2,6,63,,9,,0.3704,,,,,,,',\n",
       " '3070804,1963,1096,,\"US\",\"OH\",,1,,2,6,63,,3,,0.6667,,,,,,,']"
      ]
     },
     "execution_count": 6,
     "metadata": {},
     "output_type": "execute_result"
    }
   ],
   "source": [
    "rddPatents.take(5)"
   ]
  },
  {
   "cell_type": "code",
   "execution_count": null,
   "metadata": {
    "id": "pUcQNcKp87Ea"
   },
   "outputs": [],
   "source": []
  },
  {
   "cell_type": "markdown",
   "metadata": {
    "id": "KdHR36-i87Ee"
   },
   "source": [
    "In other words, they are a single string with multiple CSV's. You will need to convert these to (K,V) pairs, probably convert the keys to `int` and so on. You'll need to `filter` out the header string as well since there's no easy way to extract all the lines except the first."
   ]
  },
  {
   "cell_type": "markdown",
   "metadata": {
    "id": "7ZXec0bE87Ee"
   },
   "source": [
    "#### Filter out the header string as we do not require it in the later steps."
   ]
  },
  {
   "cell_type": "code",
   "execution_count": 7,
   "metadata": {
    "id": "4r7jL93s87Ef"
   },
   "outputs": [],
   "source": [
    "rddCita = rddCitations.cache().mapPartitionsWithIndex(lambda idx, it: islice(it, 1, None) if idx == 0 else it)\n",
    "rddPat = rddPatents.cache().mapPartitionsWithIndex(lambda idx, it: islice(it, 1, None) if idx == 0 else it)"
   ]
  },
  {
   "cell_type": "markdown",
   "metadata": {
    "id": "URGJ8Kpw87Ej"
   },
   "source": [
    "#### Extract the citing patent and the cited patent from the citations file. Split each line on \",\". Convert both of them to int."
   ]
  },
  {
   "cell_type": "code",
   "execution_count": 8,
   "metadata": {
    "id": "P45Sj7Eq87Ej",
    "outputId": "06ade73e-7176-42da-89f0-e5f648292d69"
   },
   "outputs": [
    {
     "data": {
      "text/plain": [
       "[(3858241, 956203),\n",
       " (3858241, 1324234),\n",
       " (3858241, 3398406),\n",
       " (3858241, 3557384),\n",
       " (3858241, 3634889)]"
      ]
     },
     "execution_count": 8,
     "metadata": {},
     "output_type": "execute_result"
    }
   ],
   "source": [
    "rddCita = rddCita.map( lambda x : (int(x.split(',')[0]), int(x.split(',')[1])) )\n",
    "rddCita.take(5)"
   ]
  },
  {
   "cell_type": "markdown",
   "metadata": {
    "id": "Ak_Wr9qB87Em"
   },
   "source": [
    "#### Extract the patent number and the state from patents table. Split each line on \",\". Convert the value at index 0 to int (this is our patent number). The value at index 5 gives us the state. Store this information in rddPat."
   ]
  },
  {
   "cell_type": "code",
   "execution_count": 9,
   "metadata": {
    "id": "tyfhw2gX87Em",
    "outputId": "66cabb58-8253-4f5e-9f34-e238d88f1f24"
   },
   "outputs": [
    {
     "data": {
      "text/plain": [
       "[(3070801, '\"\"'),\n",
       " (3070802, '\"TX\"'),\n",
       " (3070803, '\"IL\"'),\n",
       " (3070804, '\"OH\"'),\n",
       " (3070805, '\"CA\"')]"
      ]
     },
     "execution_count": 9,
     "metadata": {},
     "output_type": "execute_result"
    }
   ],
   "source": [
    "rddPat = rddPat.map( lambda x : (int(x.split(',')[0]), x.split(',')[5]) )\n",
    "rddPat.take(5)"
   ]
  },
  {
   "cell_type": "markdown",
   "metadata": {
    "id": "kl0dfX7b87Ep"
   },
   "source": [
    "#### Took a sample of rddPat data for testing / debugging, using sample()."
   ]
  },
  {
   "cell_type": "code",
   "execution_count": null,
   "metadata": {
    "id": "8G41mFvx87Eq"
   },
   "outputs": [],
   "source": [
    "#rddPatSample = rddPat.sample(False,0.05)\n",
    "#rddCitaSample = rddCitations.sample(False,0.05)"
   ]
  },
  {
   "cell_type": "code",
   "execution_count": null,
   "metadata": {
    "id": "9BmZYnPl87Et"
   },
   "outputs": [],
   "source": []
  },
  {
   "cell_type": "code",
   "execution_count": null,
   "metadata": {
    "id": "wGdcvshw87Ew"
   },
   "outputs": [],
   "source": []
  },
  {
   "cell_type": "markdown",
   "metadata": {
    "id": "2NK2Tdgk87Ey"
   },
   "source": [
    "#### Perform join using the rddCita and rddPat."
   ]
  },
  {
   "cell_type": "code",
   "execution_count": 10,
   "metadata": {
    "id": "9-sulyAp87Ez"
   },
   "outputs": [],
   "source": [
    "rdd1 = rddCita.join(rddPat)"
   ]
  },
  {
   "cell_type": "code",
   "execution_count": 11,
   "metadata": {
    "id": "s7ZPx4Y-87E1",
    "outputId": "bb5cbdd3-8cee-4f46-dfa4-fe5988114eb3"
   },
   "outputs": [
    {
     "data": {
      "text/plain": [
       "[(3952244, (3176219, '\"CA\"')),\n",
       " (3952244, (3648163, '\"CA\"')),\n",
       " (3952244, (3753088, '\"CA\"')),\n",
       " (3952244, (3809961, '\"CA\"')),\n",
       " (3952244, (3810003, '\"CA\"'))]"
      ]
     },
     "execution_count": 11,
     "metadata": {},
     "output_type": "execute_result"
    }
   ],
   "source": [
    "rdd1.take(5)"
   ]
  },
  {
   "cell_type": "markdown",
   "metadata": {
    "id": "xxcNYiy387E4"
   },
   "source": [
    "#### In the above step, we obtain citing, cited and citing state. In the next step, interchange the columns. Make cited patent the key and the other two columns are citing and citing state."
   ]
  },
  {
   "cell_type": "code",
   "execution_count": 12,
   "metadata": {
    "id": "FJpTbr9g87E5"
   },
   "outputs": [],
   "source": [
    "rdd2 = rdd1.map(lambda x: (x[1][0], (x[0], x[1][1])))"
   ]
  },
  {
   "cell_type": "code",
   "execution_count": 13,
   "metadata": {
    "id": "66LG8zWL87E8",
    "outputId": "092b4fc0-c433-49c2-9dfd-d1fb299bf957"
   },
   "outputs": [
    {
     "data": {
      "text/plain": [
       "[(2704577, (3861260, '\"CT\"')),\n",
       " (3288013, (3861260, '\"CT\"')),\n",
       " (3333495, (3861260, '\"CT\"')),\n",
       " (3381562, (3861260, '\"CT\"')),\n",
       " (3808912, (3861260, '\"CT\"'))]"
      ]
     },
     "execution_count": 13,
     "metadata": {},
     "output_type": "execute_result"
    }
   ],
   "source": [
    "rdd2.take(5)"
   ]
  },
  {
   "cell_type": "markdown",
   "metadata": {
    "id": "vT_7WLSC87E_"
   },
   "source": [
    "#### Perform join using rdd2 and rddPat."
   ]
  },
  {
   "cell_type": "code",
   "execution_count": 14,
   "metadata": {
    "id": "ArSREJmy87E_"
   },
   "outputs": [],
   "source": [
    "rdd3 = rdd2.join(rddPat)"
   ]
  },
  {
   "cell_type": "code",
   "execution_count": 15,
   "metadata": {
    "id": "C6CnbMiO87FB",
    "outputId": "2628d050-21ae-4afb-c261-c915902f5650"
   },
   "outputs": [
    {
     "data": {
      "text/plain": [
       "[(4212471, ((4538256, '\"\"'), '\"\"')),\n",
       " (4212471, ((4535436, '\"\"'), '\"\"')),\n",
       " (4212471, ((4409712, '\"\"'), '\"\"')),\n",
       " (4212471, ((4480326, '\"\"'), '\"\"')),\n",
       " (4212471, ((4387540, '\"NJ\"'), '\"\"'))]"
      ]
     },
     "execution_count": 15,
     "metadata": {},
     "output_type": "execute_result"
    }
   ],
   "source": [
    "rdd3.take(5)"
   ]
  },
  {
   "cell_type": "markdown",
   "metadata": {
    "id": "a-Ho8ZZZ87FK"
   },
   "source": [
    "#### Rearrange the columns. The first column becomes citing, the second and third are the states and the last one is cited patent."
   ]
  },
  {
   "cell_type": "code",
   "execution_count": 16,
   "metadata": {
    "id": "EqrR5JI387FK"
   },
   "outputs": [],
   "source": [
    "rdd5 = rdd3.map(lambda x: (x[1][0][0], (x[1][0][1], x[1][1], x[0])))"
   ]
  },
  {
   "cell_type": "code",
   "execution_count": 17,
   "metadata": {
    "id": "baeL-4gE87FM"
   },
   "outputs": [
    {
     "data": {
      "text/plain": [
       "[(5805056, ('\"MI\"', '\"NY\"', 5268564)),\n",
       " (5811782, ('\"\"', '\"NY\"', 5268564)),\n",
       " (5656804, ('\"NY\"', '\"NY\"', 5268564)),\n",
       " (5932860, ('\"PA\"', '\"NY\"', 5268564)),\n",
       " (5506394, ('\"PA\"', '\"NY\"', 5268564)),\n",
       " (5656805, ('\"PA\"', '\"NY\"', 5268564)),\n",
       " (5576531, ('\"NY\"', '\"NY\"', 5268564)),\n",
       " (5541397, ('\"NY\"', '\"NY\"', 5268564)),\n",
       " (4224118, ('\"IN\"', '\"NY\"', 3451902)),\n",
       " (4058432, ('\"\"', '\"NY\"', 3451902))]"
      ]
     },
     "execution_count": 17,
     "metadata": {},
     "output_type": "execute_result"
    }
   ],
   "source": [
    "rdd5.take(10)"
   ]
  },
  {
   "cell_type": "markdown",
   "metadata": {
    "id": "jqN-Cv2B87FP"
   },
   "source": [
    "#### Filter and keep only those rows where citing state is the same as cited state. Also, check that the states aren't empty. "
   ]
  },
  {
   "cell_type": "code",
   "execution_count": 18,
   "metadata": {
    "id": "-evUm0UG87FQ"
   },
   "outputs": [
    {
     "data": {
      "text/plain": [
       "[(3920628, ('\"NJ\"', '\"NJ\"', 3828021)),\n",
       " (4066752, ('\"NJ\"', '\"NJ\"', 3828021)),\n",
       " (4029882, ('\"NJ\"', '\"NJ\"', 3828021)),\n",
       " (4085208, ('\"NJ\"', '\"NJ\"', 3828021)),\n",
       " (4000262, ('\"NJ\"', '\"NJ\"', 3828021))]"
      ]
     },
     "execution_count": 18,
     "metadata": {},
     "output_type": "execute_result"
    }
   ],
   "source": [
    "rdd6 = rdd5.filter(lambda x: x[1][0]==x[1][1]).filter(lambda x: x[1][0] != '\"\"').filter(lambda x: x[1][1] != '\"\"')\n",
    "rdd6.take(5)"
   ]
  },
  {
   "cell_type": "markdown",
   "metadata": {
    "id": "YfpUutMV87FS"
   },
   "source": [
    "#### Perform group by operation using citing as the key."
   ]
  },
  {
   "cell_type": "code",
   "execution_count": 19,
   "metadata": {
    "id": "F9d9AWjm87FS"
   },
   "outputs": [
    {
     "data": {
      "text/plain": [
       "[(4318176, <pyspark.resultiterable.ResultIterable at 0x7f6f141649d0>),\n",
       " (5771811, <pyspark.resultiterable.ResultIterable at 0x7f6f14164a90>),\n",
       " (3869664, <pyspark.resultiterable.ResultIterable at 0x7f6f141649a0>),\n",
       " (4127544, <pyspark.resultiterable.ResultIterable at 0x7f6f14164700>),\n",
       " (5429418, <pyspark.resultiterable.ResultIterable at 0x7f6f14164e80>)]"
      ]
     },
     "execution_count": 19,
     "metadata": {},
     "output_type": "execute_result"
    }
   ],
   "source": [
    "rdd7 = rdd6.groupBy(lambda x: x[0])\n",
    "rdd7.take(5)"
   ]
  },
  {
   "cell_type": "markdown",
   "metadata": {},
   "source": [
    "#### For each citing patent, the length of the same state cited patents is extracted and stored in rdd8."
   ]
  },
  {
   "cell_type": "code",
   "execution_count": 20,
   "metadata": {
    "id": "zUz4waIQ87FV"
   },
   "outputs": [],
   "source": [
    "rdd8 = rdd7.map(lambda x: (x[0],len(x[1])))"
   ]
  },
  {
   "cell_type": "code",
   "execution_count": 21,
   "metadata": {
    "id": "nF5g7fU_87FX"
   },
   "outputs": [
    {
     "data": {
      "text/plain": [
       "[(4318176, 10), (5771811, 5), (3869664, 1), (4127544, 6), (5429418, 1)]"
      ]
     },
     "execution_count": 21,
     "metadata": {},
     "output_type": "execute_result"
    }
   ],
   "source": [
    "rdd8.take(5)"
   ]
  },
  {
   "cell_type": "markdown",
   "metadata": {},
   "source": [
    "#### Create an output rdd which has citing as key and the patent information."
   ]
  },
  {
   "cell_type": "code",
   "execution_count": 22,
   "metadata": {
    "id": "Zjx3gXg987FZ"
   },
   "outputs": [],
   "source": [
    "rddPatOut = rddPatents.cache().mapPartitionsWithIndex(lambda idx, it: islice(it, 1, None) if idx == 0 else it)\n",
    "rddPatOut = rddPatOut.map( lambda x : (int(x.split(',')[0]), x.split(',')[1:]) )"
   ]
  },
  {
   "cell_type": "markdown",
   "metadata": {},
   "source": [
    "#### Join rdd8 (with count) and the output rdd."
   ]
  },
  {
   "cell_type": "code",
   "execution_count": 23,
   "metadata": {
    "id": "DabYan_K87Fc"
   },
   "outputs": [],
   "source": [
    "#rddPatOutSample = rddPatOut.sample(False,0.05)"
   ]
  },
  {
   "cell_type": "code",
   "execution_count": 24,
   "metadata": {
    "id": "81wuQA1K87Fe"
   },
   "outputs": [],
   "source": [
    "rdd9 = rdd8.join(rddPatOut)"
   ]
  },
  {
   "cell_type": "code",
   "execution_count": 25,
   "metadata": {
    "id": "Ij17VJEZ87Fg"
   },
   "outputs": [],
   "source": [
    "#rdd9.take(5)\n",
    "rdd10 = rdd9.sortBy(lambda x: x[1][0], ascending=False)"
   ]
  },
  {
   "cell_type": "markdown",
   "metadata": {},
   "source": [
    "#### The code in the next cell prints out the patent number and patent information. The patent information now contains the count as well."
   ]
  },
  {
   "cell_type": "code",
   "execution_count": 26,
   "metadata": {
    "id": "8qAQ4MPk87Fi"
   },
   "outputs": [],
   "source": [
    "#rdd10.take(5)"
   ]
  },
  {
   "cell_type": "code",
   "execution_count": 27,
   "metadata": {
    "id": "DVAhu1MX87Fl"
   },
   "outputs": [
    {
     "name": "stdout",
     "output_type": "stream",
     "text": [
      "(5959466, ['1999', '14515', '1997', '\"US\"', '\"CA\"', '5310', '2', '', '326', '4', '46', '159', '0', '1', '', '0.6186', '', '4.8868', '0.0455', '0.044', '', '', 125])\n",
      "(5983822, ['1999', '14564', '1998', '\"US\"', '\"TX\"', '569900', '2', '', '114', '5', '55', '200', '0', '0.995', '', '0.7201', '', '12.45', '0', '0', '', '', 103])\n",
      "(6008204, ['1999', '14606', '1998', '\"US\"', '\"CA\"', '749584', '2', '', '514', '3', '31', '121', '0', '1', '', '0.7415', '', '5', '0.0085', '0.0083', '', '', 100])\n",
      "(5952345, ['1999', '14501', '1997', '\"US\"', '\"CA\"', '749584', '2', '', '514', '3', '31', '118', '0', '1', '', '0.7442', '', '5.1102', '0', '0', '', '', 98])\n",
      "(5958954, ['1999', '14515', '1997', '\"US\"', '\"CA\"', '749584', '2', '', '514', '3', '31', '116', '0', '1', '', '0.7397', '', '5.181', '0', '0', '', '', 96])\n",
      "(5998655, ['1999', '14585', '1998', '\"US\"', '\"CA\"', '', '1', '', '560', '1', '14', '114', '0', '1', '', '0.7387', '', '5.1667', '', '', '', '', 96])\n",
      "(5936426, ['1999', '14466', '1997', '\"US\"', '\"CA\"', '5310', '2', '', '326', '4', '46', '178', '0', '1', '', '0.58', '', '11.2303', '0.0765', '0.073', '', '', 94])\n",
      "(5739256, ['1998', '13983', '1995', '\"US\"', '\"CA\"', '70060', '2', '15', '528', '1', '15', '453', '0', '1', '', '0.8232', '', '15.1104', '0.1124', '0.1082', '', '', 90])\n",
      "(5980517, ['1999', '14557', '1998', '\"US\"', '\"CA\"', '733846', '2', '', '606', '3', '32', '241', '0', '1', '', '0.7394', '', '8.3776', '0', '0', '', '', 90])\n",
      "(5978329, ['1999', '14550', '1995', '\"US\"', '\"CA\"', '148925', '2', '', '369', '2', '24', '145', '0', '1', '', '0.5449', '', '12.9241', '0.4196', '0.4138', '', '', 90])\n",
      "(5925042, ['1999', '14445', '1997', '\"US\"', '\"CA\"', '733846', '2', '', '606', '3', '32', '242', '0', '1', '', '0.7382', '', '8.3471', '0', '0', '', '', 90])\n",
      "(5951547, ['1999', '14501', '1997', '\"US\"', '\"CA\"', '733846', '2', '', '606', '3', '32', '242', '0', '1', '', '0.7382', '', '8.3471', '0', '0', '', '', 90])\n",
      "(5913855, ['1999', '14417', '1997', '\"US\"', '\"CA\"', '733846', '2', '', '606', '3', '32', '242', '0', '1', '', '0.7403', '', '8.3595', '0', '0', '', '', 90])\n",
      "(5689485, ['1997', '13836', '1996', '\"US\"', '\"CA\"', '148925', '2', '30', '369', '2', '24', '138', '0', '1', '', '0.5556', '', '11.2174', '0.4307', '0.4275', '', '', 89])\n",
      "(5928229, ['1999', '14452', '1997', '\"US\"', '\"CA\"', '733846', '2', '', '606', '3', '32', '240', '0', '1', '', '0.7407', '', '8.4083', '0', '0', '', '', 89])\n",
      "(5917082, ['1999', '14424', '1997', '\"US\"', '\"CA\"', '749584', '2', '', '560', '1', '14', '107', '0', '1', '', '0.7206', '', '5.4393', '0', '0', '', '', 89])\n",
      "(5978331, ['1999', '14550', '1997', '\"US\"', '\"CA\"', '148925', '2', '', '369', '2', '24', '148', '0', '1', '', '0.5278', '', '12.9459', '0.4014', '0.3986', '', '', 89])\n",
      "(5618907, ['1997', '13612', '1995', '\"US\"', '\"CA\"', '70060', '2', '6', '528', '1', '15', '453', '0', '1', '', '0.8248', '', '14.1369', '0.1103', '0.106', '', '', 89])\n",
      "(5602226, ['1997', '13556', '1995', '\"US\"', '\"CA\"', '70060', '2', '21', '528', '1', '15', '450', '0', '1', '', '0.8273', '', '14.1244', '0.1088', '0.1044', '', '', 88])\n",
      "(5847160, ['1998', '14221', '1997', '\"US\"', '\"CA\"', '19170', '2', '12', '549', '1', '14', '106', '0', '1', '', '0.7246', '', '4.4811', '0.835', '0.8113', '', '', 87])\n"
     ]
    }
   ],
   "source": [
    "rdd11 = rdd10.map(lambda x: (x[0], x[1][1] + [x[1][0]]) ).take(20) \n",
    "#rdd10.reduceByKey(lambda x,y: (x, y[1].extend(y[0]))).take(5)\n",
    "for line in rdd11:\n",
    "    print (line)"
   ]
  },
  {
   "cell_type": "code",
   "execution_count": null,
   "metadata": {
    "id": "fSLNMvlG87Fn"
   },
   "outputs": [],
   "source": []
  },
  {
   "cell_type": "code",
   "execution_count": null,
   "metadata": {
    "id": "M7t3kYjO87Fp"
   },
   "outputs": [],
   "source": []
  },
  {
   "cell_type": "code",
   "execution_count": null,
   "metadata": {
    "id": "JCZkK7Yd87Fr"
   },
   "outputs": [],
   "source": []
  }
 ],
 "metadata": {
  "colab": {
   "collapsed_sections": [],
   "name": "Lab-04-patent-rdd_Aparajita.ipynb",
   "provenance": [],
   "toc_visible": true
  },
  "kernelspec": {
   "display_name": "Python 3",
   "language": "python",
   "name": "python3"
  },
  "language_info": {
   "codemirror_mode": {
    "name": "ipython",
    "version": 3
   },
   "file_extension": ".py",
   "mimetype": "text/x-python",
   "name": "python",
   "nbconvert_exporter": "python",
   "pygments_lexer": "ipython3",
   "version": "3.8.5"
  }
 },
 "nbformat": 4,
 "nbformat_minor": 4
}
